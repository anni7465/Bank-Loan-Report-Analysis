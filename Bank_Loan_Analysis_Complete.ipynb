{
 "cells": [
  {
   "cell_type": "markdown",
   "id": "8589eb99",
   "metadata": {},
   "source": [
    "# 📊 Bank Loan Analysis Python Project"
   ]
  },
  {
   "cell_type": "code",
   "execution_count": null,
   "id": "f14b9355",
   "metadata": {},
   "outputs": [],
   "source": [
    "\n",
    "import pandas as pd\n",
    "import matplotlib.pyplot as plt\n",
    "import seaborn as sns\n",
    "\n",
    "# Load Data\n",
    "df = pd.read_csv('financial_loan.csv')\n",
    "df['issue_date'] = pd.to_datetime(df['issue_date'], format='%d-%m-%Y')\n",
    "df['month'] = df['issue_date'].dt.month_name()\n",
    "df['month_num'] = df['issue_date'].dt.month\n",
    "df['is_good_loan'] = df['loan_status'].isin(['Fully Paid', 'Current'])\n",
    "df['is_bad_loan'] = df['loan_status'] == 'Charged Off'\n"
   ]
  },
  {
   "cell_type": "markdown",
   "id": "bef02ee2",
   "metadata": {},
   "source": [
    "## 📌 Key KPIs"
   ]
  },
  {
   "cell_type": "code",
   "execution_count": null,
   "id": "a1974655",
   "metadata": {},
   "outputs": [],
   "source": [
    "\n",
    "print(\"Total Applications:\", len(df))\n",
    "print(\"Total Funded Amount:\", df['loan_amount'].sum())\n",
    "print(\"Total Amount Received:\", df['total_payment'].sum())\n",
    "print(\"Average Interest Rate (%):\", round(df['int_rate'].mean() * 100, 2))\n",
    "print(\"Average DTI (%):\", round(df['dti'].mean() * 100, 2))\n"
   ]
  },
  {
   "cell_type": "markdown",
   "id": "b6fe11cb",
   "metadata": {},
   "source": [
    "## ✅ Good vs Bad Loan Analysis"
   ]
  },
  {
   "cell_type": "code",
   "execution_count": null,
   "id": "e6752755",
   "metadata": {},
   "outputs": [],
   "source": [
    "\n",
    "good_pct = (df['is_good_loan'].sum() / len(df)) * 100\n",
    "bad_pct = (df['is_bad_loan'].sum() / len(df)) * 100\n",
    "print(\"Good Loan %:\", round(good_pct, 2))\n",
    "print(\"Bad Loan %:\", round(bad_pct, 2))\n",
    "print(\"Good Loan Funded:\", df[df['is_good_loan']]['loan_amount'].sum())\n",
    "print(\"Bad Loan Funded:\", df[df['is_bad_loan']]['loan_amount'].sum())\n",
    "print(\"Good Loan Received:\", df[df['is_good_loan']]['total_payment'].sum())\n",
    "print(\"Bad Loan Received:\", df[df['is_bad_loan']]['total_payment'].sum())\n"
   ]
  },
  {
   "cell_type": "markdown",
   "id": "74085b69",
   "metadata": {},
   "source": [
    "## 📅 Monthly Trends"
   ]
  },
  {
   "cell_type": "code",
   "execution_count": null,
   "id": "86295887",
   "metadata": {},
   "outputs": [],
   "source": [
    "\n",
    "monthly = df.groupby('month_num').agg({\n",
    "    'id': 'count',\n",
    "    'loan_amount': 'sum',\n",
    "    'total_payment': 'sum'\n",
    "})\n",
    "monthly.columns = ['Applications', 'Funded', 'Received']\n",
    "monthly.plot(kind='bar', figsize=(10,5))\n",
    "plt.title(\"Monthly Applications, Funded and Received Amount\")\n",
    "plt.xticks(rotation=0)\n",
    "plt.ylabel(\"Count / Amount\")\n",
    "plt.tight_layout()\n",
    "plt.show()\n"
   ]
  },
  {
   "cell_type": "markdown",
   "id": "982620d8",
   "metadata": {},
   "source": [
    "## 📊 Loan Status Summary"
   ]
  },
  {
   "cell_type": "code",
   "execution_count": null,
   "id": "8d44bcd2",
   "metadata": {},
   "outputs": [],
   "source": [
    "\n",
    "df.groupby('loan_status')[['id', 'loan_amount', 'total_payment']].sum().rename(columns={'id': 'Loan Count'})\n"
   ]
  },
  {
   "cell_type": "markdown",
   "id": "6f1e1d8a",
   "metadata": {},
   "source": [
    "## 📍 State-wise, Term-wise, Employee Length Analysis"
   ]
  },
  {
   "cell_type": "code",
   "execution_count": null,
   "id": "61adb4b7",
   "metadata": {},
   "outputs": [],
   "source": [
    "\n",
    "print(df.groupby('address_state')[['id', 'loan_amount', 'total_payment']].sum().rename(columns={'id': 'Loan Count'}).sort_values(by='Loan Count', ascending=False).head())\n",
    "print(df.groupby('term')[['id', 'loan_amount', 'total_payment']].sum().rename(columns={'id': 'Loan Count'}))\n",
    "print(df.groupby('emp_length')[['id', 'loan_amount', 'total_payment']].sum().rename(columns={'id': 'Loan Count'}).sort_values(by='Loan Count', ascending=False).head())\n"
   ]
  },
  {
   "cell_type": "markdown",
   "id": "307b4f37",
   "metadata": {},
   "source": [
    "## 🏠 Purpose & Home Ownership Summary"
   ]
  },
  {
   "cell_type": "code",
   "execution_count": null,
   "id": "a390318c",
   "metadata": {},
   "outputs": [],
   "source": [
    "\n",
    "print(df.groupby('purpose')[['id', 'loan_amount', 'total_payment']].sum().rename(columns={'id': 'Loan Count'}).sort_values(by='Loan Count', ascending=False).head())\n",
    "print(df.groupby('home_ownership')[['id', 'loan_amount', 'total_payment']].sum().rename(columns={'id': 'Loan Count'}))\n"
   ]
  },
  {
   "cell_type": "markdown",
   "id": "527628fd",
   "metadata": {},
   "source": [
    "## 🎓 Grade-wise Summary"
   ]
  },
  {
   "cell_type": "code",
   "execution_count": null,
   "id": "a4a5932f",
   "metadata": {},
   "outputs": [],
   "source": [
    "\n",
    "df.groupby('grade')[['id', 'loan_amount', 'total_payment']].sum().rename(columns={'id': 'Loan Count'}).sort_values(by='Loan Count', ascending=False)\n"
   ]
  },
  {
   "cell_type": "markdown",
   "id": "92ccab00",
   "metadata": {},
   "source": [
    "## 📈 Correlation & Risk Insights"
   ]
  },
  {
   "cell_type": "code",
   "execution_count": null,
   "id": "b2b8a7b1",
   "metadata": {},
   "outputs": [],
   "source": [
    "\n",
    "print(\"Correlation Matrix:\")\n",
    "print(df[['int_rate', 'dti']].corr())\n",
    "high_interest = df[df['int_rate'] > df['int_rate'].median()]\n",
    "print(\"High Interest Loan Bad %:\", round((high_interest['is_bad_loan'].sum()/len(high_interest))*100, 2))\n"
   ]
  },
  {
   "cell_type": "markdown",
   "id": "662f299f",
   "metadata": {},
   "source": [
    "## 🔗 Installment vs Loan Amount Correlation"
   ]
  },
  {
   "cell_type": "code",
   "execution_count": null,
   "id": "5a0faec5",
   "metadata": {},
   "outputs": [],
   "source": [
    "\n",
    "print(\"Installment vs Loan Amount Correlation:\", round(df['installment'].corr(df['loan_amount']), 3))\n"
   ]
  },
  {
   "cell_type": "markdown",
   "id": "3613ed87",
   "metadata": {},
   "source": [
    "## 💰 Income Group vs Defaults"
   ]
  },
  {
   "cell_type": "code",
   "execution_count": null,
   "id": "3174b247",
   "metadata": {},
   "outputs": [],
   "source": [
    "\n",
    "df['income_group'] = pd.cut(df['annual_income'], bins=[0, 30000, 60000, 90000, 120000, 150000, float('inf')],\n",
    "                            labels=['<30k', '30-60k', '60-90k', '90-120k', '120-150k', '150k+'])\n",
    "df[df['is_bad_loan']].groupby('income_group')['id'].count()\n"
   ]
  }
 ],
 "metadata": {},
 "nbformat": 4,
 "nbformat_minor": 5
}